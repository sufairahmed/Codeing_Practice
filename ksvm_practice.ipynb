{
  "nbformat": 4,
  "nbformat_minor": 0,
  "metadata": {
    "colab": {
      "name": "ksvm_practice.ipynb",
      "provenance": [],
      "collapsed_sections": [],
      "authorship_tag": "ABX9TyPjdnyre4s0ltAXd4lCkOjq",
      "include_colab_link": true
    },
    "kernelspec": {
      "name": "python3",
      "display_name": "Python 3"
    }
  },
  "cells": [
    {
      "cell_type": "markdown",
      "metadata": {
        "id": "view-in-github",
        "colab_type": "text"
      },
      "source": [
        "<a href=\"https://colab.research.google.com/github/sufairahmed/Codeing_Practice/blob/master/ksvm_practice.ipynb\" target=\"_parent\"><img src=\"https://colab.research.google.com/assets/colab-badge.svg\" alt=\"Open In Colab\"/></a>"
      ]
    },
    {
      "cell_type": "code",
      "metadata": {
        "id": "RgChqpU9pXYl",
        "colab_type": "code",
        "colab": {}
      },
      "source": [
        "import numpy as np\n",
        "import matplotlib.pyplot as plt\n",
        "import pandas as pd\n"
      ],
      "execution_count": 0,
      "outputs": []
    },
    {
      "cell_type": "code",
      "metadata": {
        "id": "xDxHGn-RpqCG",
        "colab_type": "code",
        "colab": {}
      },
      "source": [
        "dataset = pd.read_csv('abilities.csv')\n",
        "X = dataset.iloc[:, [0,2]].values\n",
        "y = dataset.iloc[:, -1].values"
      ],
      "execution_count": 0,
      "outputs": []
    },
    {
      "cell_type": "code",
      "metadata": {
        "id": "B4hvOlo6wPVS",
        "colab_type": "code",
        "colab": {
          "base_uri": "https://localhost:8080/",
          "height": 1000
        },
        "outputId": "e1f8ae75-cc5e-40f2-c175-66aca30e7382"
      },
      "source": [
        "print(X)"
      ],
      "execution_count": 4,
      "outputs": [
        {
          "output_type": "stream",
          "text": [
            "[[    1     3]\n",
            " [    2     3]\n",
            " [    3     3]\n",
            " [    4     3]\n",
            " [    5     3]\n",
            " [    6     3]\n",
            " [    7     3]\n",
            " [    8     3]\n",
            " [    9     3]\n",
            " [   10     3]\n",
            " [   11     3]\n",
            " [   12     3]\n",
            " [   13     3]\n",
            " [   14     3]\n",
            " [   15     3]\n",
            " [   16     3]\n",
            " [   17     3]\n",
            " [   18     3]\n",
            " [   19     3]\n",
            " [   20     3]\n",
            " [   21     3]\n",
            " [   22     3]\n",
            " [   23     3]\n",
            " [   24     3]\n",
            " [   25     3]\n",
            " [   26     3]\n",
            " [   27     3]\n",
            " [   28     3]\n",
            " [   29     3]\n",
            " [   30     3]\n",
            " [   31     3]\n",
            " [   32     3]\n",
            " [   33     3]\n",
            " [   34     3]\n",
            " [   35     3]\n",
            " [   36     3]\n",
            " [   37     3]\n",
            " [   38     3]\n",
            " [   39     3]\n",
            " [   40     3]\n",
            " [   41     3]\n",
            " [   42     3]\n",
            " [   43     3]\n",
            " [   44     3]\n",
            " [   45     3]\n",
            " [   46     3]\n",
            " [   47     3]\n",
            " [   48     3]\n",
            " [   49     3]\n",
            " [   50     3]\n",
            " [   51     3]\n",
            " [   52     3]\n",
            " [   53     3]\n",
            " [   54     3]\n",
            " [   55     3]\n",
            " [   56     3]\n",
            " [   57     3]\n",
            " [   58     3]\n",
            " [   59     3]\n",
            " [   60     3]\n",
            " [   61     3]\n",
            " [   62     3]\n",
            " [   63     3]\n",
            " [   64     3]\n",
            " [   65     3]\n",
            " [   66     3]\n",
            " [   67     3]\n",
            " [   68     3]\n",
            " [   69     3]\n",
            " [   70     3]\n",
            " [   71     3]\n",
            " [   72     3]\n",
            " [   73     3]\n",
            " [   74     3]\n",
            " [   75     3]\n",
            " [   76     3]\n",
            " [   77     4]\n",
            " [   78     4]\n",
            " [   79     4]\n",
            " [   80     4]\n",
            " [   81     4]\n",
            " [   82     4]\n",
            " [   83     4]\n",
            " [   84     4]\n",
            " [   85     4]\n",
            " [   86     4]\n",
            " [   87     4]\n",
            " [   88     4]\n",
            " [   89     4]\n",
            " [   90     4]\n",
            " [   91     4]\n",
            " [   92     4]\n",
            " [   93     4]\n",
            " [   94     4]\n",
            " [   95     4]\n",
            " [   96     4]\n",
            " [   97     4]\n",
            " [   98     4]\n",
            " [   99     4]\n",
            " [  100     4]\n",
            " [  101     4]\n",
            " [  102     4]\n",
            " [  103     4]\n",
            " [  104     4]\n",
            " [  105     4]\n",
            " [  106     4]\n",
            " [  107     4]\n",
            " [  108     4]\n",
            " [  109     4]\n",
            " [  110     4]\n",
            " [  111     4]\n",
            " [  112     4]\n",
            " [  113     4]\n",
            " [  114     4]\n",
            " [  115     4]\n",
            " [  116     4]\n",
            " [  117     4]\n",
            " [  118     4]\n",
            " [  119     4]\n",
            " [  120     4]\n",
            " [  121     4]\n",
            " [  122     4]\n",
            " [  123     4]\n",
            " [  124     5]\n",
            " [  125     5]\n",
            " [  126     5]\n",
            " [  127     5]\n",
            " [  128     5]\n",
            " [  129     5]\n",
            " [  130     5]\n",
            " [  131     5]\n",
            " [  132     5]\n",
            " [  133     5]\n",
            " [  134     5]\n",
            " [  135     5]\n",
            " [  136     5]\n",
            " [  137     5]\n",
            " [  138     5]\n",
            " [  139     5]\n",
            " [  140     5]\n",
            " [  141     5]\n",
            " [  142     5]\n",
            " [  143     5]\n",
            " [  144     5]\n",
            " [  145     5]\n",
            " [  146     5]\n",
            " [  147     5]\n",
            " [  148     5]\n",
            " [  149     5]\n",
            " [  150     5]\n",
            " [  151     5]\n",
            " [  152     5]\n",
            " [  153     5]\n",
            " [  154     5]\n",
            " [  155     5]\n",
            " [  156     5]\n",
            " [  157     5]\n",
            " [  158     5]\n",
            " [  159     5]\n",
            " [  160     5]\n",
            " [  161     5]\n",
            " [  162     5]\n",
            " [  163     5]\n",
            " [  164     5]\n",
            " [  165     6]\n",
            " [  166     6]\n",
            " [  167     6]\n",
            " [  168     6]\n",
            " [  169     6]\n",
            " [  170     6]\n",
            " [  171     6]\n",
            " [  172     6]\n",
            " [  173     6]\n",
            " [  174     6]\n",
            " [  175     6]\n",
            " [  176     6]\n",
            " [  177     6]\n",
            " [  178     6]\n",
            " [  179     6]\n",
            " [  180     6]\n",
            " [  181     6]\n",
            " [  182     6]\n",
            " [  183     6]\n",
            " [  184     6]\n",
            " [  185     6]\n",
            " [  186     6]\n",
            " [  187     6]\n",
            " [  188     6]\n",
            " [  189     6]\n",
            " [  190     6]\n",
            " [  191     6]\n",
            " [  192     7]\n",
            " [  193     7]\n",
            " [  194     7]\n",
            " [  195     7]\n",
            " [  196     7]\n",
            " [  197     7]\n",
            " [  198     7]\n",
            " [  199     7]\n",
            " [  200     7]\n",
            " [  201     7]\n",
            " [  202     7]\n",
            " [  203     7]\n",
            " [  204     7]\n",
            " [  205     7]\n",
            " [  206     7]\n",
            " [  207     7]\n",
            " [  208     7]\n",
            " [  209     7]\n",
            " [  210     7]\n",
            " [  211     7]\n",
            " [  212     7]\n",
            " [  213     7]\n",
            " [  214     7]\n",
            " [  215     7]\n",
            " [  216     7]\n",
            " [  217     7]\n",
            " [  218     7]\n",
            " [  219     7]\n",
            " [  220     7]\n",
            " [  221     7]\n",
            " [  222     7]\n",
            " [  223     7]\n",
            " [  224     7]\n",
            " [  225     7]\n",
            " [  226     7]\n",
            " [  227     7]\n",
            " [  228     7]\n",
            " [  229     7]\n",
            " [  230     7]\n",
            " [  231     7]\n",
            " [  232     7]\n",
            " [  233     7]\n",
            " [10001     5]\n",
            " [10002     5]\n",
            " [10003     5]\n",
            " [10004     5]\n",
            " [10005     5]\n",
            " [10006     5]\n",
            " [10007     5]\n",
            " [10008     5]\n",
            " [10009     5]\n",
            " [10010     5]\n",
            " [10011     5]\n",
            " [10012     5]\n",
            " [10013     5]\n",
            " [10014     5]\n",
            " [10015     5]\n",
            " [10016     5]\n",
            " [10017     5]\n",
            " [10018     5]\n",
            " [10019     5]\n",
            " [10020     5]\n",
            " [10021     5]\n",
            " [10022     5]\n",
            " [10023     5]\n",
            " [10024     5]\n",
            " [10025     5]\n",
            " [10026     5]\n",
            " [10027     5]\n",
            " [10028     5]\n",
            " [10029     5]\n",
            " [10030     5]\n",
            " [10031     5]\n",
            " [10032     5]\n",
            " [10033     5]\n",
            " [10034     5]\n",
            " [10035     5]\n",
            " [10036     5]\n",
            " [10037     5]\n",
            " [10038     5]\n",
            " [10039     5]\n",
            " [10040     5]\n",
            " [10041     5]\n",
            " [10042     5]\n",
            " [10043     5]\n",
            " [10044     5]\n",
            " [10045     5]\n",
            " [10046     5]\n",
            " [10047     5]\n",
            " [10048     5]\n",
            " [10049     5]\n",
            " [10050     5]\n",
            " [10051     5]\n",
            " [10052     5]\n",
            " [10053     5]\n",
            " [10054     5]\n",
            " [10055     5]\n",
            " [10056     5]\n",
            " [10057     5]\n",
            " [10058     5]\n",
            " [10059     5]\n",
            " [10060     5]]\n"
          ],
          "name": "stdout"
        }
      ]
    },
    {
      "cell_type": "code",
      "metadata": {
        "id": "-HfAC_s9qF5B",
        "colab_type": "code",
        "colab": {}
      },
      "source": [
        "from sklearn.model_selection import train_test_split\n",
        "X_train, X_test, y_train, y_test = train_test_split(X,y, test_size = 0.25, random_state = 0)"
      ],
      "execution_count": 0,
      "outputs": []
    },
    {
      "cell_type": "code",
      "metadata": {
        "id": "O9vsK1DyqadO",
        "colab_type": "code",
        "colab": {
          "base_uri": "https://localhost:8080/",
          "height": 50
        },
        "outputId": "5b67c1e3-ff9e-4a6d-f68a-bd533001758e"
      },
      "source": [
        "print(y_test)"
      ],
      "execution_count": 6,
      "outputs": [
        {
          "output_type": "stream",
          "text": [
            "[1 0 1 1 1 0 1 1 1 1 1 1 1 1 1 1 0 1 1 0 1 0 1 0 0 0 1 1 0 1 1 1 1 1 1 1 1\n",
            " 0 1 0 1 1 0 1 1 1 1 1 1 1 1 1 1 1 0 0 0 1 1 1 1 1 0 1 1 1 1 0 1 1 1 1 1 1]\n"
          ],
          "name": "stdout"
        }
      ]
    },
    {
      "cell_type": "markdown",
      "metadata": {
        "id": "fehxK-nhrJ2p",
        "colab_type": "text"
      },
      "source": [
        "## Encoding the categorical data"
      ]
    },
    {
      "cell_type": "code",
      "metadata": {
        "id": "CxY1k7ZtrOoI",
        "colab_type": "code",
        "colab": {}
      },
      "source": [
        "# from sklearn.compose import ColumnTransformer\n",
        "# from sklearn.preprocessing import OneHotEncoder\n",
        "# ct = ColumnTransformer(transformers = [('encoder', OneHotEncoder(),[0])], remainder  = 'passthrough')\n",
        "# X = np.array(ct.fit_transform(X))"
      ],
      "execution_count": 0,
      "outputs": []
    },
    {
      "cell_type": "code",
      "metadata": {
        "id": "PCDYdxpEsNni",
        "colab_type": "code",
        "colab": {}
      },
      "source": [
        "# print(X)"
      ],
      "execution_count": 0,
      "outputs": []
    },
    {
      "cell_type": "code",
      "metadata": {
        "id": "szCnuvuTsrwb",
        "colab_type": "code",
        "colab": {}
      },
      "source": [
        "from sklearn.preprocessing import StandardScaler\n",
        "sc = StandardScaler()\n",
        "X_train = sc.fit_transform(X_train)\n",
        "X_test = sc.fit_transform(X_test)"
      ],
      "execution_count": 0,
      "outputs": []
    },
    {
      "cell_type": "markdown",
      "metadata": {
        "id": "boJ6-HqztCDO",
        "colab_type": "text"
      },
      "source": [
        "# training Kernel SVM model on the dataset"
      ]
    },
    {
      "cell_type": "code",
      "metadata": {
        "id": "g9RWHTdHtHyo",
        "colab_type": "code",
        "colab": {
          "base_uri": "https://localhost:8080/",
          "height": 84
        },
        "outputId": "f2e26bd6-9847-482b-bb69-184865c81349"
      },
      "source": [
        "from sklearn.svm import SVC\n",
        "classifier = SVC(kernel = 'rbf', random_state = 0) # Redial Basis Function\n",
        "classifier.fit(X_train, y_train)"
      ],
      "execution_count": 10,
      "outputs": [
        {
          "output_type": "execute_result",
          "data": {
            "text/plain": [
              "SVC(C=1.0, break_ties=False, cache_size=200, class_weight=None, coef0=0.0,\n",
              "    decision_function_shape='ovr', degree=3, gamma='scale', kernel='rbf',\n",
              "    max_iter=-1, probability=False, random_state=0, shrinking=True, tol=0.001,\n",
              "    verbose=False)"
            ]
          },
          "metadata": {
            "tags": []
          },
          "execution_count": 10
        }
      ]
    },
    {
      "cell_type": "markdown",
      "metadata": {
        "id": "ggJsIiALu4wK",
        "colab_type": "text"
      },
      "source": [
        "predict the result"
      ]
    },
    {
      "cell_type": "code",
      "metadata": {
        "id": "VDO0yXJZuCsR",
        "colab_type": "code",
        "colab": {
          "base_uri": "https://localhost:8080/",
          "height": 1000
        },
        "outputId": "bfd4b861-e4cc-4862-9d7a-d0732ec2a318"
      },
      "source": [
        "y_pred = classifier.predict(X_test)\n",
        "print(np.concatenate((y_pred.reshape(len(y_pred),1), y_test.reshape(len(y_test),1)),1))"
      ],
      "execution_count": 11,
      "outputs": [
        {
          "output_type": "stream",
          "text": [
            "[[1 1]\n",
            " [0 0]\n",
            " [1 1]\n",
            " [1 1]\n",
            " [1 1]\n",
            " [0 0]\n",
            " [1 1]\n",
            " [1 1]\n",
            " [1 1]\n",
            " [1 1]\n",
            " [1 1]\n",
            " [1 1]\n",
            " [1 1]\n",
            " [1 1]\n",
            " [1 1]\n",
            " [1 1]\n",
            " [0 0]\n",
            " [1 1]\n",
            " [1 1]\n",
            " [0 0]\n",
            " [1 1]\n",
            " [0 0]\n",
            " [1 1]\n",
            " [0 0]\n",
            " [0 0]\n",
            " [0 0]\n",
            " [1 1]\n",
            " [1 1]\n",
            " [0 0]\n",
            " [1 1]\n",
            " [1 1]\n",
            " [1 1]\n",
            " [1 1]\n",
            " [1 1]\n",
            " [1 1]\n",
            " [1 1]\n",
            " [1 1]\n",
            " [0 0]\n",
            " [1 1]\n",
            " [0 0]\n",
            " [1 1]\n",
            " [1 1]\n",
            " [0 0]\n",
            " [1 1]\n",
            " [1 1]\n",
            " [1 1]\n",
            " [1 1]\n",
            " [1 1]\n",
            " [1 1]\n",
            " [1 1]\n",
            " [1 1]\n",
            " [1 1]\n",
            " [1 1]\n",
            " [1 1]\n",
            " [0 0]\n",
            " [0 0]\n",
            " [0 0]\n",
            " [1 1]\n",
            " [1 1]\n",
            " [1 1]\n",
            " [1 1]\n",
            " [1 1]\n",
            " [0 0]\n",
            " [1 1]\n",
            " [1 1]\n",
            " [1 1]\n",
            " [1 1]\n",
            " [0 0]\n",
            " [1 1]\n",
            " [1 1]\n",
            " [1 1]\n",
            " [1 1]\n",
            " [1 1]\n",
            " [1 1]]\n"
          ],
          "name": "stdout"
        }
      ]
    },
    {
      "cell_type": "markdown",
      "metadata": {
        "id": "bZNP6Cgju8zi",
        "colab_type": "text"
      },
      "source": [
        "cofusion matrix"
      ]
    },
    {
      "cell_type": "code",
      "metadata": {
        "id": "y8sMM5cSvBF3",
        "colab_type": "code",
        "colab": {
          "base_uri": "https://localhost:8080/",
          "height": 67
        },
        "outputId": "978437ff-6a8c-45c5-af10-53f5d1a6ad2c"
      },
      "source": [
        "from sklearn.metrics import confusion_matrix, accuracy_score\n",
        "cm = confusion_matrix(y_test, y_pred)\n",
        "print(cm)\n",
        "accuracy_score(y_test, y_pred)"
      ],
      "execution_count": 12,
      "outputs": [
        {
          "output_type": "stream",
          "text": [
            "[[17  0]\n",
            " [ 0 57]]\n"
          ],
          "name": "stdout"
        },
        {
          "output_type": "execute_result",
          "data": {
            "text/plain": [
              "1.0"
            ]
          },
          "metadata": {
            "tags": []
          },
          "execution_count": 12
        }
      ]
    },
    {
      "cell_type": "markdown",
      "metadata": {
        "id": "w0yZaHD0vWWO",
        "colab_type": "text"
      },
      "source": [
        "#visualisation of traing set result"
      ]
    },
    {
      "cell_type": "code",
      "metadata": {
        "id": "ogzbFLnCvbqn",
        "colab_type": "code",
        "colab": {}
      },
      "source": [
        ""
      ],
      "execution_count": 0,
      "outputs": []
    }
  ]
}