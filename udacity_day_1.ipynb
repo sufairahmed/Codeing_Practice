{
  "nbformat": 4,
  "nbformat_minor": 0,
  "metadata": {
    "colab": {
      "name": "udacity_day_1.ipynb",
      "provenance": [],
      "collapsed_sections": [],
      "authorship_tag": "ABX9TyOIQqWuGCFgmbtoqLQLx8O5",
      "include_colab_link": true
    },
    "kernelspec": {
      "name": "python3",
      "display_name": "Python 3"
    }
  },
  "cells": [
    {
      "cell_type": "markdown",
      "metadata": {
        "id": "view-in-github",
        "colab_type": "text"
      },
      "source": [
        "<a href=\"https://colab.research.google.com/github/sufairahmed/colab-practice/blob/master/udacity_day_1.ipynb\" target=\"_parent\"><img src=\"https://colab.research.google.com/assets/colab-badge.svg\" alt=\"Open In Colab\"/></a>"
      ]
    },
    {
      "cell_type": "markdown",
      "metadata": {
        "id": "-fwwad_vqW0a",
        "colab_type": "text"
      },
      "source": [
        ""
      ]
    },
    {
      "cell_type": "code",
      "metadata": {
        "id": "GBL5-8A8hb0O",
        "colab_type": "code",
        "colab": {}
      },
      "source": [
        "totall = (9*7) + (5*7)\n",
        "print(totall)\n",
        "\n",
        "packages= (17*6) - ((9*7)+(5*7))\n",
        "print(packages)"
      ],
      "execution_count": 0,
      "outputs": []
    },
    {
      "cell_type": "code",
      "metadata": {
        "id": "0QsOHdPhGGBl",
        "colab_type": "code",
        "colab": {}
      },
      "source": [
        "x ,y = 15, 4\n",
        "print(x // y)\n",
        "z = 2**4\n",
        "print(z)\n",
        "x ** y\n",
        "x / y\n",
        "x // y #// is floar division\n",
        "x % y"
      ],
      "execution_count": 0,
      "outputs": []
    },
    {
      "cell_type": "code",
      "metadata": {
        "id": "edb_StgfHYek",
        "colab_type": "code",
        "colab": {}
      },
      "source": [
        "x = 17\n",
        "y = 4\n",
        "x / y"
      ],
      "execution_count": 0,
      "outputs": []
    },
    {
      "cell_type": "markdown",
      "metadata": {
        "id": "Je11dbTFIqFF",
        "colab_type": "text"
      },
      "source": [
        "comparison_operaton"
      ]
    },
    {
      "cell_type": "code",
      "metadata": {
        "id": "vFWAaoSVHycj",
        "colab_type": "code",
        "colab": {}
      },
      "source": [
        "x > y\n",
        "y < x\n",
        "x >= y\n",
        "x<= y\n",
        "y = 17\n",
        "x == y\n",
        "x >= y"
      ],
      "execution_count": 0,
      "outputs": []
    },
    {
      "cell_type": "markdown",
      "metadata": {
        "id": "783ix9nKIyne",
        "colab_type": "text"
      },
      "source": [
        "logical_operator"
      ]
    },
    {
      "cell_type": "code",
      "metadata": {
        "id": "L-fsaxwDIv4C",
        "colab_type": "code",
        "colab": {}
      },
      "source": [
        "x = True\n",
        "y = False\n",
        "\n",
        "print (\"x and y \", x and y)\n",
        "print (\"x or y  \", x or y )\n",
        "print(\"not x \", not x)\n"
      ],
      "execution_count": 0,
      "outputs": []
    },
    {
      "cell_type": "markdown",
      "metadata": {
        "id": "_VLq4sqS3POu",
        "colab_type": "text"
      },
      "source": [
        "#list"
      ]
    },
    {
      "cell_type": "code",
      "metadata": {
        "id": "FiWA57J_3N42",
        "colab_type": "code",
        "colab": {}
      },
      "source": [
        "names = ['john','Bob','Mosh','Sufair','Taslima']\n",
        "print(names)\n",
        "print(names[1:5])\n",
        "names[1]= 'Easin'\n",
        "print(names[1])\n",
        "print(names)"
      ],
      "execution_count": 0,
      "outputs": []
    }
  ]
}