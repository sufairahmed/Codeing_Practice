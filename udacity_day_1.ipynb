{
  "nbformat": 4,
  "nbformat_minor": 0,
  "metadata": {
    "colab": {
      "name": "udacity_day_1.ipynb",
      "provenance": [],
      "collapsed_sections": [],
      "authorship_tag": "ABX9TyNsUB4f5iy03kUnvy1soQVS",
      "include_colab_link": true
    },
    "kernelspec": {
      "name": "python3",
      "display_name": "Python 3"
    }
  },
  "cells": [
    {
      "cell_type": "markdown",
      "metadata": {
        "id": "view-in-github",
        "colab_type": "text"
      },
      "source": [
        "<a href=\"https://colab.research.google.com/github/sufairahmed/colab-practice/blob/master/udacity_day_1.ipynb\" target=\"_parent\"><img src=\"https://colab.research.google.com/assets/colab-badge.svg\" alt=\"Open In Colab\"/></a>"
      ]
    },
    {
      "cell_type": "markdown",
      "metadata": {
        "id": "-fwwad_vqW0a",
        "colab_type": "text"
      },
      "source": [
        ""
      ]
    },
    {
      "cell_type": "code",
      "metadata": {
        "id": "GBL5-8A8hb0O",
        "colab_type": "code",
        "colab": {
          "base_uri": "https://localhost:8080/",
          "height": 50
        },
        "outputId": "297bf27c-e96d-4c53-c098-fe6a59508bd2"
      },
      "source": [
        "totall = (9*7) + (5*7)\n",
        "print(totall)\n",
        "\n",
        "packages= (17*6) - ((9*7)+(5*7))\n",
        "print(packages)"
      ],
      "execution_count": 1,
      "outputs": [
        {
          "output_type": "stream",
          "text": [
            "98\n",
            "4\n"
          ],
          "name": "stdout"
        }
      ]
    },
    {
      "cell_type": "code",
      "metadata": {
        "id": "0QsOHdPhGGBl",
        "colab_type": "code",
        "outputId": "77459c06-9ea0-4319-cf1f-3fb1f04fa2ba",
        "colab": {
          "base_uri": "https://localhost:8080/",
          "height": 67
        }
      },
      "source": [
        "x ,y = 15, 4\n",
        "print(x // y)\n",
        "z = 2**4\n",
        "print(z)\n",
        "x ** y\n",
        "x / y\n",
        "x // y #// is floar division\n",
        "x % y"
      ],
      "execution_count": 2,
      "outputs": [
        {
          "output_type": "stream",
          "text": [
            "3\n",
            "16\n"
          ],
          "name": "stdout"
        },
        {
          "output_type": "execute_result",
          "data": {
            "text/plain": [
              "3"
            ]
          },
          "metadata": {
            "tags": []
          },
          "execution_count": 2
        }
      ]
    },
    {
      "cell_type": "code",
      "metadata": {
        "id": "edb_StgfHYek",
        "colab_type": "code",
        "colab": {
          "base_uri": "https://localhost:8080/",
          "height": 34
        },
        "outputId": "4633a598-527e-4259-d6f3-0d64ab95b46e"
      },
      "source": [
        "x = 17\n",
        "y = 4\n",
        "x / y"
      ],
      "execution_count": 3,
      "outputs": [
        {
          "output_type": "execute_result",
          "data": {
            "text/plain": [
              "4.25"
            ]
          },
          "metadata": {
            "tags": []
          },
          "execution_count": 3
        }
      ]
    },
    {
      "cell_type": "markdown",
      "metadata": {
        "id": "Je11dbTFIqFF",
        "colab_type": "text"
      },
      "source": [
        "comparison_operaton"
      ]
    },
    {
      "cell_type": "code",
      "metadata": {
        "id": "vFWAaoSVHycj",
        "colab_type": "code",
        "colab": {
          "base_uri": "https://localhost:8080/",
          "height": 34
        },
        "outputId": "e998cffb-9940-4750-b4d4-5a4bab922794"
      },
      "source": [
        "x > y\n",
        "y < x\n",
        "x >= y\n",
        "x<= y\n",
        "y = 17\n",
        "x == y\n",
        "x >= y"
      ],
      "execution_count": 4,
      "outputs": [
        {
          "output_type": "execute_result",
          "data": {
            "text/plain": [
              "True"
            ]
          },
          "metadata": {
            "tags": []
          },
          "execution_count": 4
        }
      ]
    },
    {
      "cell_type": "markdown",
      "metadata": {
        "id": "783ix9nKIyne",
        "colab_type": "text"
      },
      "source": [
        "logical_operator"
      ]
    },
    {
      "cell_type": "code",
      "metadata": {
        "id": "L-fsaxwDIv4C",
        "colab_type": "code",
        "outputId": "e666878d-3e31-4fa0-a12d-58d4b6cc5da8",
        "colab": {
          "base_uri": "https://localhost:8080/",
          "height": 67
        }
      },
      "source": [
        "x = True\n",
        "y = False\n",
        "\n",
        "print (\"x and y \", x and y)\n",
        "print (\"x or y  \", x or y )\n",
        "print(\"not x \", not x)\n"
      ],
      "execution_count": 5,
      "outputs": [
        {
          "output_type": "stream",
          "text": [
            "x and y  False\n",
            "x or y   True\n",
            "not x  False\n"
          ],
          "name": "stdout"
        }
      ]
    }
  ]
}